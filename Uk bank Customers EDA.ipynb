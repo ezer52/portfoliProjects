{
 "cells": [
  {
   "cell_type": "markdown",
   "id": "dbb76c22",
   "metadata": {},
   "source": [
    "## Importing Libraries"
   ]
  },
  {
   "cell_type": "code",
   "execution_count": 29,
   "id": "84d1f71b",
   "metadata": {},
   "outputs": [],
   "source": [
    "import numpy as np \n",
    "import pandas as pd\n",
    "import matplotlib.pyplot as plt \n",
    "import seaborn as sns \n",
    "%matplotlib inline "
   ]
  },
  {
   "cell_type": "code",
   "execution_count": 2,
   "id": "8d66d27c",
   "metadata": {},
   "outputs": [
    {
     "data": {
      "text/html": [
       "<div>\n",
       "<style scoped>\n",
       "    .dataframe tbody tr th:only-of-type {\n",
       "        vertical-align: middle;\n",
       "    }\n",
       "\n",
       "    .dataframe tbody tr th {\n",
       "        vertical-align: top;\n",
       "    }\n",
       "\n",
       "    .dataframe thead th {\n",
       "        text-align: right;\n",
       "    }\n",
       "</style>\n",
       "<table border=\"1\" class=\"dataframe\">\n",
       "  <thead>\n",
       "    <tr style=\"text-align: right;\">\n",
       "      <th></th>\n",
       "      <th>Customer ID</th>\n",
       "      <th>Name</th>\n",
       "      <th>Surname</th>\n",
       "      <th>Gender</th>\n",
       "      <th>Age</th>\n",
       "      <th>Province</th>\n",
       "      <th>Job Classification</th>\n",
       "      <th>Date Joined</th>\n",
       "      <th>Balance</th>\n",
       "    </tr>\n",
       "  </thead>\n",
       "  <tbody>\n",
       "    <tr>\n",
       "      <th>0</th>\n",
       "      <td>100000001</td>\n",
       "      <td>Simon</td>\n",
       "      <td>Walsh</td>\n",
       "      <td>Male</td>\n",
       "      <td>21</td>\n",
       "      <td>England</td>\n",
       "      <td>White Collar</td>\n",
       "      <td>05.Jan.15</td>\n",
       "      <td>113810.15</td>\n",
       "    </tr>\n",
       "    <tr>\n",
       "      <th>1</th>\n",
       "      <td>400000002</td>\n",
       "      <td>Jasmine</td>\n",
       "      <td>Miller</td>\n",
       "      <td>Female</td>\n",
       "      <td>34</td>\n",
       "      <td>Northern Ireland</td>\n",
       "      <td>Blue Collar</td>\n",
       "      <td>06.Jan.15</td>\n",
       "      <td>36919.73</td>\n",
       "    </tr>\n",
       "    <tr>\n",
       "      <th>2</th>\n",
       "      <td>100000003</td>\n",
       "      <td>Liam</td>\n",
       "      <td>Brown</td>\n",
       "      <td>Male</td>\n",
       "      <td>46</td>\n",
       "      <td>England</td>\n",
       "      <td>White Collar</td>\n",
       "      <td>07.Jan.15</td>\n",
       "      <td>101536.83</td>\n",
       "    </tr>\n",
       "    <tr>\n",
       "      <th>3</th>\n",
       "      <td>300000004</td>\n",
       "      <td>Trevor</td>\n",
       "      <td>Parr</td>\n",
       "      <td>Male</td>\n",
       "      <td>32</td>\n",
       "      <td>Wales</td>\n",
       "      <td>White Collar</td>\n",
       "      <td>08.Jan.15</td>\n",
       "      <td>1421.52</td>\n",
       "    </tr>\n",
       "    <tr>\n",
       "      <th>4</th>\n",
       "      <td>100000005</td>\n",
       "      <td>Deirdre</td>\n",
       "      <td>Pullman</td>\n",
       "      <td>Female</td>\n",
       "      <td>38</td>\n",
       "      <td>England</td>\n",
       "      <td>Blue Collar</td>\n",
       "      <td>09.Jan.15</td>\n",
       "      <td>35639.79</td>\n",
       "    </tr>\n",
       "  </tbody>\n",
       "</table>\n",
       "</div>"
      ],
      "text/plain": [
       "   Customer ID     Name  Surname  Gender  Age          Province  \\\n",
       "0    100000001    Simon    Walsh    Male   21           England   \n",
       "1    400000002  Jasmine   Miller  Female   34  Northern Ireland   \n",
       "2    100000003     Liam    Brown    Male   46           England   \n",
       "3    300000004   Trevor     Parr    Male   32             Wales   \n",
       "4    100000005  Deirdre  Pullman  Female   38           England   \n",
       "\n",
       "  Job Classification Date Joined    Balance  \n",
       "0       White Collar   05.Jan.15  113810.15  \n",
       "1        Blue Collar   06.Jan.15   36919.73  \n",
       "2       White Collar   07.Jan.15  101536.83  \n",
       "3       White Collar   08.Jan.15    1421.52  \n",
       "4        Blue Collar   09.Jan.15   35639.79  "
      ]
     },
     "execution_count": 2,
     "metadata": {},
     "output_type": "execute_result"
    }
   ],
   "source": [
    "##Getting Data\n",
    "uk= pd.read_excel('UK Bank Customers.xlsx')\n",
    "uk.head()"
   ]
  },
  {
   "cell_type": "code",
   "execution_count": 3,
   "id": "baa2788d",
   "metadata": {},
   "outputs": [
    {
     "name": "stdout",
     "output_type": "stream",
     "text": [
      "<class 'pandas.core.frame.DataFrame'>\n",
      "RangeIndex: 4014 entries, 0 to 4013\n",
      "Data columns (total 9 columns):\n",
      " #   Column              Non-Null Count  Dtype  \n",
      "---  ------              --------------  -----  \n",
      " 0   Customer ID         4014 non-null   int64  \n",
      " 1   Name                4014 non-null   object \n",
      " 2   Surname             4014 non-null   object \n",
      " 3   Gender              4014 non-null   object \n",
      " 4   Age                 4014 non-null   int64  \n",
      " 5   Province            4014 non-null   object \n",
      " 6   Job Classification  4014 non-null   object \n",
      " 7   Date Joined         4014 non-null   object \n",
      " 8   Balance             4014 non-null   float64\n",
      "dtypes: float64(1), int64(2), object(6)\n",
      "memory usage: 282.4+ KB\n"
     ]
    }
   ],
   "source": [
    "uk.info()"
   ]
  },
  {
   "cell_type": "code",
   "execution_count": 5,
   "id": "c40115ce",
   "metadata": {},
   "outputs": [
    {
     "data": {
      "text/html": [
       "<div>\n",
       "<style scoped>\n",
       "    .dataframe tbody tr th:only-of-type {\n",
       "        vertical-align: middle;\n",
       "    }\n",
       "\n",
       "    .dataframe tbody tr th {\n",
       "        vertical-align: top;\n",
       "    }\n",
       "\n",
       "    .dataframe thead th {\n",
       "        text-align: right;\n",
       "    }\n",
       "</style>\n",
       "<table border=\"1\" class=\"dataframe\">\n",
       "  <thead>\n",
       "    <tr style=\"text-align: right;\">\n",
       "      <th></th>\n",
       "      <th>Balance</th>\n",
       "      <th>Age</th>\n",
       "    </tr>\n",
       "  </thead>\n",
       "  <tbody>\n",
       "    <tr>\n",
       "      <th>count</th>\n",
       "      <td>4014.00</td>\n",
       "      <td>4014.00</td>\n",
       "    </tr>\n",
       "    <tr>\n",
       "      <th>mean</th>\n",
       "      <td>39766.45</td>\n",
       "      <td>38.61</td>\n",
       "    </tr>\n",
       "    <tr>\n",
       "      <th>std</th>\n",
       "      <td>29859.49</td>\n",
       "      <td>9.82</td>\n",
       "    </tr>\n",
       "    <tr>\n",
       "      <th>min</th>\n",
       "      <td>11.52</td>\n",
       "      <td>15.00</td>\n",
       "    </tr>\n",
       "    <tr>\n",
       "      <th>25%</th>\n",
       "      <td>16115.37</td>\n",
       "      <td>31.00</td>\n",
       "    </tr>\n",
       "    <tr>\n",
       "      <th>50%</th>\n",
       "      <td>33567.33</td>\n",
       "      <td>37.00</td>\n",
       "    </tr>\n",
       "    <tr>\n",
       "      <th>75%</th>\n",
       "      <td>57533.93</td>\n",
       "      <td>45.00</td>\n",
       "    </tr>\n",
       "    <tr>\n",
       "      <th>max</th>\n",
       "      <td>183467.70</td>\n",
       "      <td>64.00</td>\n",
       "    </tr>\n",
       "  </tbody>\n",
       "</table>\n",
       "</div>"
      ],
      "text/plain": [
       "         Balance      Age\n",
       "count    4014.00  4014.00\n",
       "mean    39766.45    38.61\n",
       "std     29859.49     9.82\n",
       "min        11.52    15.00\n",
       "25%     16115.37    31.00\n",
       "50%     33567.33    37.00\n",
       "75%     57533.93    45.00\n",
       "max    183467.70    64.00"
      ]
     },
     "execution_count": 5,
     "metadata": {},
     "output_type": "execute_result"
    }
   ],
   "source": [
    "uk[['Balance','Age']].describe().round(2)\n",
    "#we see average of age is 38.61 that's means child account"
   ]
  },
  {
   "cell_type": "code",
   "execution_count": null,
   "id": "ce3c2e87",
   "metadata": {},
   "outputs": [],
   "source": []
  },
  {
   "cell_type": "markdown",
   "id": "12d09e07",
   "metadata": {},
   "source": [
    "## Preprocessing\n"
   ]
  },
  {
   "cell_type": "code",
   "execution_count": 6,
   "id": "05db45dd",
   "metadata": {},
   "outputs": [
    {
     "data": {
      "text/plain": [
       "Customer ID           0\n",
       "Name                  0\n",
       "Surname               0\n",
       "Gender                0\n",
       "Age                   0\n",
       "Province              0\n",
       "Job Classification    0\n",
       "Date Joined           0\n",
       "Balance               0\n",
       "dtype: int64"
      ]
     },
     "execution_count": 6,
     "metadata": {},
     "output_type": "execute_result"
    }
   ],
   "source": [
    "uk.isnull().sum() \n",
    "#we don't have any missing values "
   ]
  },
  {
   "cell_type": "code",
   "execution_count": 8,
   "id": "5452913b",
   "metadata": {},
   "outputs": [
    {
     "data": {
      "text/plain": [
       "0"
      ]
     },
     "execution_count": 8,
     "metadata": {},
     "output_type": "execute_result"
    }
   ],
   "source": [
    "uk.duplicated().sum()\n",
    "#also any duplicated values we are happy now "
   ]
  },
  {
   "cell_type": "code",
   "execution_count": 10,
   "id": "b816958b",
   "metadata": {},
   "outputs": [
    {
     "data": {
      "text/plain": [
       "array([21, 34, 46, 32, 38, 30, 48, 33, 42, 40, 39, 24, 36, 31, 37, 58, 41,\n",
       "       52, 55, 50, 25, 26, 35, 59, 27, 49, 22, 53, 47, 19, 29, 44, 43, 61,\n",
       "       45, 51, 23, 20, 28, 56, 57, 54, 63, 18, 17, 62, 60, 64, 15],\n",
       "      dtype=int64)"
      ]
     },
     "execution_count": 10,
     "metadata": {},
     "output_type": "execute_result"
    }
   ],
   "source": [
    "uk['Age'].unique()"
   ]
  },
  {
   "cell_type": "code",
   "execution_count": 11,
   "id": "5a88549a",
   "metadata": {},
   "outputs": [
    {
     "data": {
      "text/plain": [
       "49"
      ]
     },
     "execution_count": 11,
     "metadata": {},
     "output_type": "execute_result"
    }
   ],
   "source": [
    "uk['Age'].nunique()"
   ]
  },
  {
   "cell_type": "code",
   "execution_count": 12,
   "id": "30da1b24",
   "metadata": {},
   "outputs": [
    {
     "data": {
      "text/plain": [
       "34    185\n",
       "36    183\n",
       "33    167\n",
       "37    166\n",
       "31    163\n",
       "35    163\n",
       "32    161\n",
       "38    159\n",
       "29    139\n",
       "42    133\n",
       "40    132\n",
       "39    126\n",
       "30    125\n",
       "41    125\n",
       "43    121\n",
       "45    117\n",
       "44    105\n",
       "28    104\n",
       "27     96\n",
       "47     93\n",
       "46     91\n",
       "48     84\n",
       "52     77\n",
       "26     76\n",
       "51     75\n",
       "25     67\n",
       "49     67\n",
       "53     66\n",
       "50     65\n",
       "24     58\n",
       "54     49\n",
       "55     47\n",
       "23     46\n",
       "58     45\n",
       "56     42\n",
       "59     34\n",
       "57     34\n",
       "22     31\n",
       "61     31\n",
       "18     30\n",
       "60     29\n",
       "21     27\n",
       "20     20\n",
       "19     19\n",
       "64     15\n",
       "63     11\n",
       "62     10\n",
       "17      4\n",
       "15      1\n",
       "Name: Age, dtype: int64"
      ]
     },
     "execution_count": 12,
     "metadata": {},
     "output_type": "execute_result"
    }
   ],
   "source": [
    "uk['Age'].value_counts()"
   ]
  },
  {
   "cell_type": "code",
   "execution_count": 13,
   "id": "6be1316d",
   "metadata": {},
   "outputs": [
    {
     "data": {
      "text/plain": [
       "array(['England', 'Northern Ireland', 'Wales', 'Scotland'], dtype=object)"
      ]
     },
     "execution_count": 13,
     "metadata": {},
     "output_type": "execute_result"
    }
   ],
   "source": [
    "uk['Province'].unique()\n",
    "#we have 4 province here "
   ]
  },
  {
   "cell_type": "code",
   "execution_count": 14,
   "id": "a7837d92",
   "metadata": {},
   "outputs": [
    {
     "data": {
      "text/plain": [
       "4"
      ]
     },
     "execution_count": 14,
     "metadata": {},
     "output_type": "execute_result"
    }
   ],
   "source": [
    "uk['Province'].nunique()"
   ]
  },
  {
   "cell_type": "code",
   "execution_count": 15,
   "id": "07f01cab",
   "metadata": {},
   "outputs": [
    {
     "data": {
      "text/plain": [
       "England             2159\n",
       "Scotland            1124\n",
       "Wales                520\n",
       "Northern Ireland     211\n",
       "Name: Province, dtype: int64"
      ]
     },
     "execution_count": 15,
     "metadata": {},
     "output_type": "execute_result"
    }
   ],
   "source": [
    "uk['Province'].value_counts()\n",
    "#most province presented here are england and scotich"
   ]
  },
  {
   "cell_type": "code",
   "execution_count": 16,
   "id": "54753e12",
   "metadata": {},
   "outputs": [
    {
     "data": {
      "text/plain": [
       "array(['White Collar', 'Blue Collar', 'Other'], dtype=object)"
      ]
     },
     "execution_count": 16,
     "metadata": {},
     "output_type": "execute_result"
    }
   ],
   "source": [
    "uk['Job Classification'].unique()"
   ]
  },
  {
   "cell_type": "code",
   "execution_count": 17,
   "id": "a34bcd0b",
   "metadata": {},
   "outputs": [
    {
     "data": {
      "text/plain": [
       "3"
      ]
     },
     "execution_count": 17,
     "metadata": {},
     "output_type": "execute_result"
    }
   ],
   "source": [
    "uk['Job Classification'].nunique()"
   ]
  },
  {
   "cell_type": "code",
   "execution_count": 18,
   "id": "69e0dd93",
   "metadata": {},
   "outputs": [
    {
     "data": {
      "text/plain": [
       "White Collar    1955\n",
       "Blue Collar     1049\n",
       "Other           1010\n",
       "Name: Job Classification, dtype: int64"
      ]
     },
     "execution_count": 18,
     "metadata": {},
     "output_type": "execute_result"
    }
   ],
   "source": [
    "uk['Job Classification'].value_counts()\n",
    "#white collar grades are diominate "
   ]
  },
  {
   "cell_type": "code",
   "execution_count": null,
   "id": "32cf00cc",
   "metadata": {},
   "outputs": [],
   "source": [
    "#convert date joined to date "
   ]
  },
  {
   "cell_type": "code",
   "execution_count": 19,
   "id": "eddf3669",
   "metadata": {},
   "outputs": [
    {
     "data": {
      "text/plain": [
       "0   2015-01-05\n",
       "1   2015-01-06\n",
       "2   2015-01-07\n",
       "3   2015-01-08\n",
       "4   2015-01-09\n",
       "Name: Date Joined, dtype: datetime64[ns]"
      ]
     },
     "execution_count": 19,
     "metadata": {},
     "output_type": "execute_result"
    }
   ],
   "source": [
    "import datetime\n",
    "uk['Date Joined']=pd.to_datetime(uk['Date Joined'])\n",
    "uk['Date Joined'].head()"
   ]
  },
  {
   "cell_type": "code",
   "execution_count": 21,
   "id": "b11a93a1",
   "metadata": {},
   "outputs": [
    {
     "name": "stdout",
     "output_type": "stream",
     "text": [
      "<class 'pandas.core.frame.DataFrame'>\n",
      "RangeIndex: 4014 entries, 0 to 4013\n",
      "Data columns (total 9 columns):\n",
      " #   Column              Non-Null Count  Dtype         \n",
      "---  ------              --------------  -----         \n",
      " 0   Customer ID         4014 non-null   int64         \n",
      " 1   Name                4014 non-null   object        \n",
      " 2   Surname             4014 non-null   object        \n",
      " 3   Gender              4014 non-null   object        \n",
      " 4   Age                 4014 non-null   int64         \n",
      " 5   Province            4014 non-null   object        \n",
      " 6   Job Classification  4014 non-null   object        \n",
      " 7   Date Joined         4014 non-null   datetime64[ns]\n",
      " 8   Balance             4014 non-null   float64       \n",
      "dtypes: datetime64[ns](1), float64(1), int64(2), object(5)\n",
      "memory usage: 282.4+ KB\n"
     ]
    }
   ],
   "source": [
    "uk.info()"
   ]
  },
  {
   "cell_type": "markdown",
   "id": "081e6dbe",
   "metadata": {},
   "source": [
    "## EDA"
   ]
  },
  {
   "cell_type": "code",
   "execution_count": null,
   "id": "86bfe8b2",
   "metadata": {},
   "outputs": [],
   "source": []
  },
  {
   "cell_type": "code",
   "execution_count": 32,
   "id": "e7ac1178",
   "metadata": {},
   "outputs": [
    {
     "data": {
      "text/html": [
       "<div>\n",
       "<style scoped>\n",
       "    .dataframe tbody tr th:only-of-type {\n",
       "        vertical-align: middle;\n",
       "    }\n",
       "\n",
       "    .dataframe tbody tr th {\n",
       "        vertical-align: top;\n",
       "    }\n",
       "\n",
       "    .dataframe thead th {\n",
       "        text-align: right;\n",
       "    }\n",
       "</style>\n",
       "<table border=\"1\" class=\"dataframe\">\n",
       "  <thead>\n",
       "    <tr style=\"text-align: right;\">\n",
       "      <th></th>\n",
       "      <th>Customer ID</th>\n",
       "      <th>Name</th>\n",
       "      <th>Surname</th>\n",
       "      <th>Gender</th>\n",
       "      <th>Age</th>\n",
       "      <th>Province</th>\n",
       "      <th>Job Classification</th>\n",
       "      <th>Date Joined</th>\n",
       "      <th>Balance</th>\n",
       "    </tr>\n",
       "  </thead>\n",
       "  <tbody>\n",
       "    <tr>\n",
       "      <th>2770</th>\n",
       "      <td>100002771</td>\n",
       "      <td>Ryan</td>\n",
       "      <td>Clarkson</td>\n",
       "      <td>Male</td>\n",
       "      <td>27</td>\n",
       "      <td>England</td>\n",
       "      <td>White Collar</td>\n",
       "      <td>2015-10-24</td>\n",
       "      <td>34618.10</td>\n",
       "    </tr>\n",
       "    <tr>\n",
       "      <th>490</th>\n",
       "      <td>200000491</td>\n",
       "      <td>Piers</td>\n",
       "      <td>Jones</td>\n",
       "      <td>Male</td>\n",
       "      <td>46</td>\n",
       "      <td>Scotland</td>\n",
       "      <td>Blue Collar</td>\n",
       "      <td>2015-05-14</td>\n",
       "      <td>14557.62</td>\n",
       "    </tr>\n",
       "    <tr>\n",
       "      <th>2982</th>\n",
       "      <td>100002983</td>\n",
       "      <td>Amelia</td>\n",
       "      <td>Hill</td>\n",
       "      <td>Female</td>\n",
       "      <td>24</td>\n",
       "      <td>England</td>\n",
       "      <td>Blue Collar</td>\n",
       "      <td>2015-11-02</td>\n",
       "      <td>55477.57</td>\n",
       "    </tr>\n",
       "    <tr>\n",
       "      <th>3686</th>\n",
       "      <td>100003687</td>\n",
       "      <td>Ruth</td>\n",
       "      <td>Avery</td>\n",
       "      <td>Female</td>\n",
       "      <td>33</td>\n",
       "      <td>England</td>\n",
       "      <td>White Collar</td>\n",
       "      <td>2015-12-13</td>\n",
       "      <td>60116.40</td>\n",
       "    </tr>\n",
       "    <tr>\n",
       "      <th>3022</th>\n",
       "      <td>100003023</td>\n",
       "      <td>Jonathan</td>\n",
       "      <td>Oliver</td>\n",
       "      <td>Male</td>\n",
       "      <td>37</td>\n",
       "      <td>England</td>\n",
       "      <td>White Collar</td>\n",
       "      <td>2015-11-05</td>\n",
       "      <td>77501.35</td>\n",
       "    </tr>\n",
       "    <tr>\n",
       "      <th>2557</th>\n",
       "      <td>100002558</td>\n",
       "      <td>Matt</td>\n",
       "      <td>Miller</td>\n",
       "      <td>Male</td>\n",
       "      <td>30</td>\n",
       "      <td>England</td>\n",
       "      <td>White Collar</td>\n",
       "      <td>2015-10-11</td>\n",
       "      <td>23025.61</td>\n",
       "    </tr>\n",
       "    <tr>\n",
       "      <th>3649</th>\n",
       "      <td>200003650</td>\n",
       "      <td>Thomas</td>\n",
       "      <td>Fraser</td>\n",
       "      <td>Male</td>\n",
       "      <td>51</td>\n",
       "      <td>Scotland</td>\n",
       "      <td>Blue Collar</td>\n",
       "      <td>2015-12-10</td>\n",
       "      <td>5018.31</td>\n",
       "    </tr>\n",
       "    <tr>\n",
       "      <th>587</th>\n",
       "      <td>200000588</td>\n",
       "      <td>Sean</td>\n",
       "      <td>Dyer</td>\n",
       "      <td>Male</td>\n",
       "      <td>46</td>\n",
       "      <td>Scotland</td>\n",
       "      <td>Blue Collar</td>\n",
       "      <td>2015-05-19</td>\n",
       "      <td>26094.73</td>\n",
       "    </tr>\n",
       "    <tr>\n",
       "      <th>1251</th>\n",
       "      <td>200001252</td>\n",
       "      <td>Alan</td>\n",
       "      <td>Campbell</td>\n",
       "      <td>Male</td>\n",
       "      <td>34</td>\n",
       "      <td>Scotland</td>\n",
       "      <td>Blue Collar</td>\n",
       "      <td>2015-07-17</td>\n",
       "      <td>10309.36</td>\n",
       "    </tr>\n",
       "    <tr>\n",
       "      <th>1188</th>\n",
       "      <td>100001189</td>\n",
       "      <td>Madeleine</td>\n",
       "      <td>Ross</td>\n",
       "      <td>Female</td>\n",
       "      <td>32</td>\n",
       "      <td>England</td>\n",
       "      <td>Other</td>\n",
       "      <td>2015-07-13</td>\n",
       "      <td>76207.19</td>\n",
       "    </tr>\n",
       "  </tbody>\n",
       "</table>\n",
       "</div>"
      ],
      "text/plain": [
       "      Customer ID       Name   Surname  Gender  Age  Province  \\\n",
       "2770    100002771       Ryan  Clarkson    Male   27   England   \n",
       "490     200000491      Piers     Jones    Male   46  Scotland   \n",
       "2982    100002983     Amelia      Hill  Female   24   England   \n",
       "3686    100003687       Ruth     Avery  Female   33   England   \n",
       "3022    100003023   Jonathan    Oliver    Male   37   England   \n",
       "2557    100002558       Matt    Miller    Male   30   England   \n",
       "3649    200003650     Thomas    Fraser    Male   51  Scotland   \n",
       "587     200000588       Sean      Dyer    Male   46  Scotland   \n",
       "1251    200001252       Alan  Campbell    Male   34  Scotland   \n",
       "1188    100001189  Madeleine      Ross  Female   32   England   \n",
       "\n",
       "     Job Classification Date Joined   Balance  \n",
       "2770       White Collar  2015-10-24  34618.10  \n",
       "490         Blue Collar  2015-05-14  14557.62  \n",
       "2982        Blue Collar  2015-11-02  55477.57  \n",
       "3686       White Collar  2015-12-13  60116.40  \n",
       "3022       White Collar  2015-11-05  77501.35  \n",
       "2557       White Collar  2015-10-11  23025.61  \n",
       "3649        Blue Collar  2015-12-10   5018.31  \n",
       "587         Blue Collar  2015-05-19  26094.73  \n",
       "1251        Blue Collar  2015-07-17  10309.36  \n",
       "1188              Other  2015-07-13  76207.19  "
      ]
     },
     "execution_count": 32,
     "metadata": {},
     "output_type": "execute_result"
    }
   ],
   "source": [
    "uk.sample(10)"
   ]
  },
  {
   "cell_type": "markdown",
   "id": "73238de2",
   "metadata": {},
   "source": [
    "## what is the average of ages ?"
   ]
  },
  {
   "cell_type": "code",
   "execution_count": 33,
   "id": "a653a407",
   "metadata": {},
   "outputs": [
    {
     "data": {
      "text/html": [
       "<div>\n",
       "<style scoped>\n",
       "    .dataframe tbody tr th:only-of-type {\n",
       "        vertical-align: middle;\n",
       "    }\n",
       "\n",
       "    .dataframe tbody tr th {\n",
       "        vertical-align: top;\n",
       "    }\n",
       "\n",
       "    .dataframe thead th {\n",
       "        text-align: right;\n",
       "    }\n",
       "</style>\n",
       "<table border=\"1\" class=\"dataframe\">\n",
       "  <thead>\n",
       "    <tr style=\"text-align: right;\">\n",
       "      <th></th>\n",
       "      <th>Age</th>\n",
       "    </tr>\n",
       "  </thead>\n",
       "  <tbody>\n",
       "    <tr>\n",
       "      <th>count</th>\n",
       "      <td>4014.00</td>\n",
       "    </tr>\n",
       "    <tr>\n",
       "      <th>mean</th>\n",
       "      <td>38.61</td>\n",
       "    </tr>\n",
       "    <tr>\n",
       "      <th>std</th>\n",
       "      <td>9.82</td>\n",
       "    </tr>\n",
       "    <tr>\n",
       "      <th>min</th>\n",
       "      <td>15.00</td>\n",
       "    </tr>\n",
       "    <tr>\n",
       "      <th>25%</th>\n",
       "      <td>31.00</td>\n",
       "    </tr>\n",
       "    <tr>\n",
       "      <th>50%</th>\n",
       "      <td>37.00</td>\n",
       "    </tr>\n",
       "    <tr>\n",
       "      <th>75%</th>\n",
       "      <td>45.00</td>\n",
       "    </tr>\n",
       "    <tr>\n",
       "      <th>max</th>\n",
       "      <td>64.00</td>\n",
       "    </tr>\n",
       "  </tbody>\n",
       "</table>\n",
       "</div>"
      ],
      "text/plain": [
       "           Age\n",
       "count  4014.00\n",
       "mean     38.61\n",
       "std       9.82\n",
       "min      15.00\n",
       "25%      31.00\n",
       "50%      37.00\n",
       "75%      45.00\n",
       "max      64.00"
      ]
     },
     "execution_count": 33,
     "metadata": {},
     "output_type": "execute_result"
    }
   ],
   "source": [
    "uk[['Age']].describe().round(2)\n",
    "#average of 38.61"
   ]
  },
  {
   "cell_type": "markdown",
   "id": "f589c8d7",
   "metadata": {},
   "source": [
    "## How much sum of balance we have ?"
   ]
  },
  {
   "cell_type": "code",
   "execution_count": 34,
   "id": "66f90131",
   "metadata": {},
   "outputs": [
    {
     "data": {
      "text/plain": [
       "159622523.37"
      ]
     },
     "execution_count": 34,
     "metadata": {},
     "output_type": "execute_result"
    }
   ],
   "source": [
    "uk['Balance'].sum()"
   ]
  },
  {
   "cell_type": "markdown",
   "id": "c8d99295",
   "metadata": {},
   "source": [
    "## Who is the most customer has the heighest balance and where he belongs ?is he male ?how old is he ? "
   ]
  },
  {
   "cell_type": "code",
   "execution_count": 48,
   "id": "942b8f15",
   "metadata": {},
   "outputs": [],
   "source": [
    "customers= uk.groupby(by=['Name','Surname','Gender','Age','Province'], as_index=False)['Balance'].sum()"
   ]
  },
  {
   "cell_type": "code",
   "execution_count": 49,
   "id": "1ff0534f",
   "metadata": {},
   "outputs": [
    {
     "data": {
      "text/html": [
       "<div>\n",
       "<style scoped>\n",
       "    .dataframe tbody tr th:only-of-type {\n",
       "        vertical-align: middle;\n",
       "    }\n",
       "\n",
       "    .dataframe tbody tr th {\n",
       "        vertical-align: top;\n",
       "    }\n",
       "\n",
       "    .dataframe thead th {\n",
       "        text-align: right;\n",
       "    }\n",
       "</style>\n",
       "<table border=\"1\" class=\"dataframe\">\n",
       "  <thead>\n",
       "    <tr style=\"text-align: right;\">\n",
       "      <th></th>\n",
       "      <th>Name</th>\n",
       "      <th>Surname</th>\n",
       "      <th>Gender</th>\n",
       "      <th>Age</th>\n",
       "      <th>Province</th>\n",
       "      <th>Balance</th>\n",
       "    </tr>\n",
       "  </thead>\n",
       "  <tbody>\n",
       "    <tr>\n",
       "      <th>1132</th>\n",
       "      <td>Dorothy</td>\n",
       "      <td>Jackson</td>\n",
       "      <td>Female</td>\n",
       "      <td>31</td>\n",
       "      <td>England</td>\n",
       "      <td>183467.70</td>\n",
       "    </tr>\n",
       "    <tr>\n",
       "      <th>675</th>\n",
       "      <td>Carl</td>\n",
       "      <td>Fraser</td>\n",
       "      <td>Male</td>\n",
       "      <td>35</td>\n",
       "      <td>England</td>\n",
       "      <td>181680.99</td>\n",
       "    </tr>\n",
       "    <tr>\n",
       "      <th>917</th>\n",
       "      <td>Connor</td>\n",
       "      <td>North</td>\n",
       "      <td>Male</td>\n",
       "      <td>50</td>\n",
       "      <td>Scotland</td>\n",
       "      <td>172085.48</td>\n",
       "    </tr>\n",
       "    <tr>\n",
       "      <th>3435</th>\n",
       "      <td>Sebastian</td>\n",
       "      <td>Arnold</td>\n",
       "      <td>Male</td>\n",
       "      <td>44</td>\n",
       "      <td>England</td>\n",
       "      <td>161517.82</td>\n",
       "    </tr>\n",
       "    <tr>\n",
       "      <th>349</th>\n",
       "      <td>Anna</td>\n",
       "      <td>Randall</td>\n",
       "      <td>Female</td>\n",
       "      <td>25</td>\n",
       "      <td>Northern Ireland</td>\n",
       "      <td>149698.12</td>\n",
       "    </tr>\n",
       "  </tbody>\n",
       "</table>\n",
       "</div>"
      ],
      "text/plain": [
       "           Name  Surname  Gender  Age          Province    Balance\n",
       "1132    Dorothy  Jackson  Female   31           England  183467.70\n",
       "675        Carl   Fraser    Male   35           England  181680.99\n",
       "917      Connor    North    Male   50          Scotland  172085.48\n",
       "3435  Sebastian   Arnold    Male   44           England  161517.82\n",
       "349        Anna  Randall  Female   25  Northern Ireland  149698.12"
      ]
     },
     "execution_count": 49,
     "metadata": {},
     "output_type": "execute_result"
    }
   ],
   "source": [
    "customers.sort_values(by='Balance', ascending=False).head()"
   ]
  },
  {
   "cell_type": "code",
   "execution_count": null,
   "id": "d362853e",
   "metadata": {},
   "outputs": [],
   "source": [
    "#Dorothy Jackson she is 31 from england has the heighst Balance "
   ]
  },
  {
   "cell_type": "markdown",
   "id": "a44015cb",
   "metadata": {},
   "source": [
    " ## who is dominated Male or Female ?"
   ]
  },
  {
   "cell_type": "code",
   "execution_count": 45,
   "id": "afc765b0",
   "metadata": {},
   "outputs": [
    {
     "data": {
      "text/plain": [
       "<AxesSubplot: >"
      ]
     },
     "execution_count": 45,
     "metadata": {},
     "output_type": "execute_result"
    },
    {
     "data": {
      "image/png": "[encoded data removed]",
      "text/plain": [
       "<Figure size 640x480 with 1 Axes>"
      ]
     },
     "metadata": {},
     "output_type": "display_data"
    }
   ],
   "source": [
    "uk['Gender'].value_counts().plot.bar()"
   ]
  },
  {
   "cell_type": "code",
   "execution_count": null,
   "id": "1c9a5b84",
   "metadata": {},
   "outputs": [],
   "source": [
    "### Male are dominated "
   ]
  },
  {
   "cell_type": "markdown",
   "id": "5303cc19",
   "metadata": {},
   "source": [
    "## Bivarite"
   ]
  },
  {
   "cell_type": "markdown",
   "id": "db52f576",
   "metadata": {},
   "source": [
    "## how is the distrubution of male and female in our Province ?"
   ]
  },
  {
   "cell_type": "code",
   "execution_count": 57,
   "id": "d033336c",
   "metadata": {},
   "outputs": [
    {
     "data": {
      "text/plain": [
       "<AxesSubplot: xlabel='Province', ylabel='count'>"
      ]
     },
     "execution_count": 57,
     "metadata": {},
     "output_type": "execute_result"
    },
    {
     "data": {
      "image/png": "[encoded data removed]",
      "text/plain": [
       "<Figure size 640x480 with 1 Axes>"
      ]
     },
     "metadata": {},
     "output_type": "display_data"
    }
   ],
   "source": [
    "## Plotting Province Against sex\n",
    "sns.countplot(x = 'Province' , hue ='Gender' , data = uk)"
   ]
  },
  {
   "cell_type": "code",
   "execution_count": null,
   "id": "751593f5",
   "metadata": {},
   "outputs": [],
   "source": [
    "#the distrubution of male by province \n",
    "#scotland are full with males"
   ]
  },
  {
   "cell_type": "markdown",
   "id": "386fc31b",
   "metadata": {},
   "source": [
    "## which job has the heighst balance ?"
   ]
  },
  {
   "cell_type": "code",
   "execution_count": 65,
   "id": "74b1dd5a",
   "metadata": {},
   "outputs": [
    {
     "data": {
      "image/png": "[encoded data removed]",
      "text/plain": [
       "<Figure size 640x480 with 1 Axes>"
      ]
     },
     "metadata": {},
     "output_type": "display_data"
    }
   ],
   "source": [
    "plt.bar(uk['Job Classification'],uk['Balance'])\n",
    "plt.show()\n"
   ]
  },
  {
   "cell_type": "code",
   "execution_count": null,
   "id": "1d01aed1",
   "metadata": {},
   "outputs": [],
   "source": [
    "#White Collar are heighst balance grade"
   ]
  },
  {
   "cell_type": "code",
   "execution_count": 68,
   "id": "e75ea251",
   "metadata": {},
   "outputs": [
    {
     "name": "stderr",
     "output_type": "stream",
     "text": [
      "C:\\Users\\Pc\\AppData\\Local\\Temp\\ipykernel_14064\\3409382766.py:3: UserWarning: To output multiple subplots, the figure containing the passed axes is being cleared.\n",
      "  uk.hist(ax=ax)\n"
     ]
    },
    {
     "data": {
      "image/png": "[encoded data removed]",
      "text/plain": [
       "<Figure size 2000x1500 with 4 Axes>"
      ]
     },
     "metadata": {},
     "output_type": "display_data"
    }
   ],
   "source": [
    "fig=plt.figure(figsize=(20,15))\n",
    "ax=fig.gca()\n",
    "uk.hist(ax=ax)\n",
    "plt.show()"
   ]
  },
  {
   "cell_type": "markdown",
   "id": "473fa40b",
   "metadata": {},
   "source": [
    "## coorelation"
   ]
  },
  {
   "cell_type": "code",
   "execution_count": 70,
   "id": "16580946",
   "metadata": {},
   "outputs": [
    {
     "name": "stderr",
     "output_type": "stream",
     "text": [
      "C:\\Users\\Pc\\AppData\\Local\\Temp\\ipykernel_14064\\763316801.py:1: FutureWarning: The default value of numeric_only in DataFrame.corr is deprecated. In a future version, it will default to False. Select only valid columns or specify the value of numeric_only to silence this warning.\n",
      "  uk.corr()\n"
     ]
    },
    {
     "data": {
      "text/html": [
       "<div>\n",
       "<style scoped>\n",
       "    .dataframe tbody tr th:only-of-type {\n",
       "        vertical-align: middle;\n",
       "    }\n",
       "\n",
       "    .dataframe tbody tr th {\n",
       "        vertical-align: top;\n",
       "    }\n",
       "\n",
       "    .dataframe thead th {\n",
       "        text-align: right;\n",
       "    }\n",
       "</style>\n",
       "<table border=\"1\" class=\"dataframe\">\n",
       "  <thead>\n",
       "    <tr style=\"text-align: right;\">\n",
       "      <th></th>\n",
       "      <th>Customer ID</th>\n",
       "      <th>Age</th>\n",
       "      <th>Balance</th>\n",
       "    </tr>\n",
       "  </thead>\n",
       "  <tbody>\n",
       "    <tr>\n",
       "      <th>Customer ID</th>\n",
       "      <td>1.000000</td>\n",
       "      <td>0.081691</td>\n",
       "      <td>0.021428</td>\n",
       "    </tr>\n",
       "    <tr>\n",
       "      <th>Age</th>\n",
       "      <td>0.081691</td>\n",
       "      <td>1.000000</td>\n",
       "      <td>0.009359</td>\n",
       "    </tr>\n",
       "    <tr>\n",
       "      <th>Balance</th>\n",
       "      <td>0.021428</td>\n",
       "      <td>0.009359</td>\n",
       "      <td>1.000000</td>\n",
       "    </tr>\n",
       "  </tbody>\n",
       "</table>\n",
       "</div>"
      ],
      "text/plain": [
       "             Customer ID       Age   Balance\n",
       "Customer ID     1.000000  0.081691  0.021428\n",
       "Age             0.081691  1.000000  0.009359\n",
       "Balance         0.021428  0.009359  1.000000"
      ]
     },
     "execution_count": 70,
     "metadata": {},
     "output_type": "execute_result"
    }
   ],
   "source": [
    "uk.corr()"
   ]
  },
  {
   "cell_type": "code",
   "execution_count": 71,
   "id": "d769953f",
   "metadata": {},
   "outputs": [
    {
     "name": "stderr",
     "output_type": "stream",
     "text": [
      "C:\\Users\\Pc\\AppData\\Local\\Temp\\ipykernel_14064\\370579981.py:2: FutureWarning: The default value of numeric_only in DataFrame.corr is deprecated. In a future version, it will default to False. Select only valid columns or specify the value of numeric_only to silence this warning.\n",
      "  sns.heatmap(uk.iloc[:,0:15].corr(), annot=True,fmt=\".0%\")\n"
     ]
    },
    {
     "data": {
      "image/png": "[encoded data removed]",
      "text/plain": [
       "<Figure size 1500x1000 with 2 Axes>"
      ]
     },
     "metadata": {},
     "output_type": "display_data"
    }
   ],
   "source": [
    "plt.figure(figsize=(15,10))\n",
    "sns.heatmap(uk.iloc[:,0:15].corr(), annot=True,fmt=\".0%\")\n",
    "plt.show()"
   ]
  },
  {
   "cell_type": "code",
   "execution_count": null,
   "id": "920277bb",
   "metadata": {},
   "outputs": [],
   "source": []
  }
 ],
 "metadata": {
  "kernelspec": {
   "display_name": "Python 3 (ipykernel)",
   "language": "python",
   "name": "python3"
  },
  "language_info": {
   "codemirror_mode": {
    "name": "ipython",
    "version": 3
   },
   "file_extension": ".py",
   "mimetype": "text/x-python",
   "name": "python",
   "nbconvert_exporter": "python",
   "pygments_lexer": "ipython3",
   "version": "3.10.7"
  }
 },
 "nbformat": 4,
 "nbformat_minor": 5
}
